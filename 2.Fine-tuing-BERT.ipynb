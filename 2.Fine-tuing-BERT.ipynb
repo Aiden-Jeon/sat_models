{
 "cells": [
  {
   "cell_type": "code",
   "execution_count": 1,
   "metadata": {
    "colab": {
     "base_uri": "https://localhost:8080/"
    },
    "executionInfo": {
     "elapsed": 2912,
     "status": "ok",
     "timestamp": 1604876574749,
     "user": {
      "displayName": "J JS",
      "photoUrl": "",
      "userId": "03523663544813654809"
     },
     "user_tz": 480
    },
    "id": "a7W_6VdC1XD9",
    "outputId": "0a04d8fe-e71e-4140-b6a8-ac32bdf5c235"
   },
   "outputs": [
    {
     "name": "stdout",
     "output_type": "stream",
     "text": [
      "Requirement already satisfied: transformers in /usr/local/lib/python3.6/dist-packages (3.4.0)\n",
      "Requirement already satisfied: numpy in /usr/local/lib/python3.6/dist-packages (from transformers) (1.18.5)\n",
      "Requirement already satisfied: sacremoses in /usr/local/lib/python3.6/dist-packages (from transformers) (0.0.43)\n",
      "Requirement already satisfied: sentencepiece!=0.1.92 in /usr/local/lib/python3.6/dist-packages (from transformers) (0.1.94)\n",
      "Requirement already satisfied: tqdm>=4.27 in /usr/local/lib/python3.6/dist-packages (from transformers) (4.41.1)\n",
      "Requirement already satisfied: regex!=2019.12.17 in /usr/local/lib/python3.6/dist-packages (from transformers) (2019.12.20)\n",
      "Requirement already satisfied: dataclasses; python_version < \"3.7\" in /usr/local/lib/python3.6/dist-packages (from transformers) (0.7)\n",
      "Requirement already satisfied: tokenizers==0.9.2 in /usr/local/lib/python3.6/dist-packages (from transformers) (0.9.2)\n",
      "Requirement already satisfied: requests in /usr/local/lib/python3.6/dist-packages (from transformers) (2.23.0)\n",
      "Requirement already satisfied: packaging in /usr/local/lib/python3.6/dist-packages (from transformers) (20.4)\n",
      "Requirement already satisfied: filelock in /usr/local/lib/python3.6/dist-packages (from transformers) (3.0.12)\n",
      "Requirement already satisfied: protobuf in /usr/local/lib/python3.6/dist-packages (from transformers) (3.12.4)\n",
      "Requirement already satisfied: six in /usr/local/lib/python3.6/dist-packages (from sacremoses->transformers) (1.15.0)\n",
      "Requirement already satisfied: click in /usr/local/lib/python3.6/dist-packages (from sacremoses->transformers) (7.1.2)\n",
      "Requirement already satisfied: joblib in /usr/local/lib/python3.6/dist-packages (from sacremoses->transformers) (0.17.0)\n",
      "Requirement already satisfied: urllib3!=1.25.0,!=1.25.1,<1.26,>=1.21.1 in /usr/local/lib/python3.6/dist-packages (from requests->transformers) (1.24.3)\n",
      "Requirement already satisfied: certifi>=2017.4.17 in /usr/local/lib/python3.6/dist-packages (from requests->transformers) (2020.6.20)\n",
      "Requirement already satisfied: idna<3,>=2.5 in /usr/local/lib/python3.6/dist-packages (from requests->transformers) (2.10)\n",
      "Requirement already satisfied: chardet<4,>=3.0.2 in /usr/local/lib/python3.6/dist-packages (from requests->transformers) (3.0.4)\n",
      "Requirement already satisfied: pyparsing>=2.0.2 in /usr/local/lib/python3.6/dist-packages (from packaging->transformers) (2.4.7)\n",
      "Requirement already satisfied: setuptools in /usr/local/lib/python3.6/dist-packages (from protobuf->transformers) (50.3.2)\n"
     ]
    }
   ],
   "source": [
    "!pip install transformers"
   ]
  },
  {
   "cell_type": "code",
   "execution_count": 2,
   "metadata": {
    "executionInfo": {
     "elapsed": 5575,
     "status": "ok",
     "timestamp": 1604876577421,
     "user": {
      "displayName": "J JS",
      "photoUrl": "",
      "userId": "03523663544813654809"
     },
     "user_tz": 480
    },
    "id": "VvGjmTgp2E9Y"
   },
   "outputs": [],
   "source": [
    "import os\n",
    "import time\n",
    "import random\n",
    "import numpy as np\n",
    "import pandas as pd\n",
    "\n",
    "from sklearn.metrics import roc_curve, auc\n",
    "\n",
    "import torch\n",
    "import torch.nn as nn\n",
    "from torch.utils.data import Dataset, DataLoader\n",
    "\n",
    "from transformers import DistilBertForSequenceClassification\n",
    "from transformers import AdamW\n",
    "from transformers import DistilBertTokenizerFast"
   ]
  },
  {
   "cell_type": "code",
   "execution_count": 3,
   "metadata": {
    "executionInfo": {
     "elapsed": 5574,
     "status": "ok",
     "timestamp": 1604876577423,
     "user": {
      "displayName": "J JS",
      "photoUrl": "",
      "userId": "03523663544813654809"
     },
     "user_tz": 480
    },
    "id": "hGh5augPFKxC"
   },
   "outputs": [],
   "source": [
    "RANDOM_SEED = 2020\n",
    "torch.manual_seed(RANDOM_SEED)\n",
    "torch.backends.cudnn.deterministic = True\n",
    "torch.backends.cudnn.benchmark = False\n",
    "np.random.seed(RANDOM_SEED)\n",
    "random.seed(RANDOM_SEED)\n",
    "\n",
    "DATA_PATH = \"/content/\""
   ]
  },
  {
   "cell_type": "markdown",
   "metadata": {},
   "source": [
    "## Dataset"
   ]
  },
  {
   "cell_type": "code",
   "execution_count": 4,
   "metadata": {
    "executionInfo": {
     "elapsed": 5568,
     "status": "ok",
     "timestamp": 1604876577424,
     "user": {
      "displayName": "J JS",
      "photoUrl": "",
      "userId": "03523663544813654809"
     },
     "user_tz": 480
    },
    "id": "o5x7fDFr2EF3"
   },
   "outputs": [],
   "source": [
    "class CustomDataset(Dataset):\n",
    "    def __init__(self, encodings, labels):\n",
    "        self.encodings = encodings\n",
    "        self.labels = labels\n",
    "\n",
    "    def __getitem__(self, idx):\n",
    "        item = {key: torch.tensor(val[idx]) for key, val in self.encodings.items()}\n",
    "        item['labels'] = torch.tensor(self.labels[idx])\n",
    "        return item\n",
    "\n",
    "    def __len__(self):\n",
    "        return len(self.labels)"
   ]
  },
  {
   "cell_type": "code",
   "execution_count": 5,
   "metadata": {
    "executionInfo": {
     "elapsed": 5552,
     "status": "ok",
     "timestamp": 1604876577424,
     "user": {
      "displayName": "J JS",
      "photoUrl": "",
      "userId": "03523663544813654809"
     },
     "user_tz": 480
    },
    "id": "7XQ6A2SP0tDu"
   },
   "outputs": [],
   "source": [
    "tokenizer = DistilBertTokenizerFast.from_pretrained('distilbert-base-uncased')\n",
    "\n",
    "train_df = pd.read_csv(os.path.join(DATA_PATH, \"sat_train.tsv\"), sep=\"\\t\")\n",
    "valid_df = pd.read_csv(os.path.join(DATA_PATH, \"sat_valid.tsv\"), sep=\"\\t\")\n",
    "test_df = pd.read_csv(os.path.join(DATA_PATH, \"sat_test.tsv\"), sep=\"\\t\")\n",
    "\n",
    "train_encodings = tokenizer(train_df[\"context\"].values.tolist(), truncation=True, padding=True)\n",
    "valid_encodings = tokenizer(valid_df[\"context\"].values.tolist(), truncation=True, padding=True)\n",
    "test_encodings = tokenizer(test_df[\"context\"].values.tolist(), truncation=True, padding=True)\n",
    "\n",
    "train_dataset = CustomDataset(train_encodings, train_df[\"label\"].values)\n",
    "valid_dataset = CustomDataset(valid_encodings, valid_df[\"label\"].values)\n",
    "test_dataset = CustomDataset(test_encodings, test_df[\"label\"].values)\n",
    "\n",
    "train_loader = DataLoader(train_dataset, batch_size=8, shuffle=True)\n",
    "valid_loader = DataLoader(valid_dataset, batch_size=8, shuffle=True)\n",
    "test_loader = DataLoader(test_dataset, batch_size=8, shuffle=False)"
   ]
  },
  {
   "cell_type": "markdown",
   "metadata": {},
   "source": [
    "## Test function"
   ]
  },
  {
   "cell_type": "code",
   "execution_count": null,
   "metadata": {
    "id": "RBUgh11bJbQu"
   },
   "outputs": [],
   "source": [
    "def bert_test(\n",
    "    model: nn.Module,\n",
    "    iterator: DataLoader\n",
    "):\n",
    "\n",
    "    with torch.no_grad():\n",
    "        y_real = []\n",
    "        y_pred = []\n",
    "        model.eval()\n",
    "\n",
    "        for batch in test_loader:\n",
    "            input_ids = batch['input_ids'].to(device)\n",
    "            attention_mask = batch['attention_mask'].to(device)\n",
    "            output = model(input_ids, attention_mask=attention_mask)[0]\n",
    "            y_pred += [output]\n",
    "            y_real += [batch[\"labels\"]]\n",
    "            \n",
    "        y_real = torch.cat(y_real)\n",
    "        y_pred = torch.cat(y_pred)[:,1]\n",
    "\n",
    "    fpr, tpr, _ = roc_curve(y_real, y_pred)\n",
    "    auroc = auc(fpr, tpr)\n",
    "\n",
    "    return auroc"
   ]
  },
  {
   "cell_type": "markdown",
   "metadata": {},
   "source": [
    "## Before fine-tuning"
   ]
  },
  {
   "cell_type": "code",
   "execution_count": 6,
   "metadata": {
    "colab": {
     "base_uri": "https://localhost:8080/"
    },
    "executionInfo": {
     "elapsed": 8343,
     "status": "ok",
     "timestamp": 1604876580218,
     "user": {
      "displayName": "J JS",
      "photoUrl": "",
      "userId": "03523663544813654809"
     },
     "user_tz": 480
    },
    "id": "XrLWbTRBCvUV",
    "outputId": "68e120e2-704e-4e3d-fc71-16504d7609e0"
   },
   "outputs": [
    {
     "name": "stderr",
     "output_type": "stream",
     "text": [
      "Some weights of the model checkpoint at distilbert-base-uncased were not used when initializing DistilBertForSequenceClassification: ['vocab_transform.weight', 'vocab_transform.bias', 'vocab_layer_norm.weight', 'vocab_layer_norm.bias', 'vocab_projector.weight', 'vocab_projector.bias']\n",
      "- This IS expected if you are initializing DistilBertForSequenceClassification from the checkpoint of a model trained on another task or with another architecture (e.g. initializing a BertForSequenceClassification model from a BertForPretraining model).\n",
      "- This IS NOT expected if you are initializing DistilBertForSequenceClassification from the checkpoint of a model that you expect to be exactly identical (initializing a BertForSequenceClassification model from a BertForSequenceClassification model).\n",
      "Some weights of DistilBertForSequenceClassification were not initialized from the model checkpoint at distilbert-base-uncased and are newly initialized: ['pre_classifier.weight', 'pre_classifier.bias', 'classifier.weight', 'classifier.bias']\n",
      "You should probably TRAIN this model on a down-stream task to be able to use it for predictions and inference.\n"
     ]
    }
   ],
   "source": [
    "device = torch.device('cuda') if torch.cuda.is_available() else torch.device('cpu')\n",
    "\n",
    "model = DistilBertForSequenceClassification.from_pretrained('distilbert-base-uncased')\n",
    "_ = model.to(device)"
   ]
  },
  {
   "cell_type": "code",
   "execution_count": 8,
   "metadata": {
    "colab": {
     "base_uri": "https://localhost:8080/"
    },
    "executionInfo": {
     "elapsed": 11632,
     "status": "ok",
     "timestamp": 1604876583514,
     "user": {
      "displayName": "J JS",
      "photoUrl": "",
      "userId": "03523663544813654809"
     },
     "user_tz": 480
    },
    "id": "KnGHR9w0EMXp",
    "outputId": "31565b88-c2ec-42ea-e77f-1e8b09fadf76"
   },
   "outputs": [
    {
     "data": {
      "text/plain": [
       "0.38888888888888884"
      ]
     },
     "execution_count": 8,
     "metadata": {
      "tags": []
     },
     "output_type": "execute_result"
    }
   ],
   "source": [
    "test_auroc = bert_test(model, test_loader)\n",
    "test_auroc"
   ]
  },
  {
   "cell_type": "markdown",
   "metadata": {},
   "source": [
    "## Fine tuning"
   ]
  },
  {
   "cell_type": "code",
   "execution_count": 9,
   "metadata": {
    "colab": {
     "base_uri": "https://localhost:8080/"
    },
    "executionInfo": {
     "elapsed": 635945,
     "status": "ok",
     "timestamp": 1604877207834,
     "user": {
      "displayName": "J JS",
      "photoUrl": "",
      "userId": "03523663544813654809"
     },
     "user_tz": 480
    },
    "id": "rRe7fiWY3cLp",
    "outputId": "65bdca27-5c74-4305-a0c0-f679faf5e380"
   },
   "outputs": [
    {
     "name": "stdout",
     "output_type": "stream",
     "text": [
      "| Test AUROC: 0.72222\n",
      "| Test AUROC: 0.66667\n",
      "| Test AUROC: 0.74747\n",
      "| Test AUROC: 0.78788\n",
      "| Test AUROC: 0.66667\n",
      "| Test AUROC: 0.79798\n",
      "| Test AUROC: 0.81313\n",
      "| Test AUROC: 0.80303\n",
      "| Test AUROC: 0.79798\n",
      "| Test AUROC: 0.80303\n"
     ]
    }
   ],
   "source": [
    "model.train()\n",
    "optim = AdamW(model.parameters(), lr=5e-5)\n",
    "\n",
    "for epoch in range(10):\n",
    "    for batch in train_loader:\n",
    "        optim.zero_grad()\n",
    "        input_ids = batch['input_ids'].to(device)\n",
    "        attention_mask = batch['attention_mask'].to(device)\n",
    "        labels = batch['labels'].to(device)\n",
    "        outputs = model(input_ids, attention_mask=attention_mask, labels=labels)\n",
    "        loss = outputs[0]\n",
    "        loss.backward()\n",
    "        optim.step()\n",
    "    test_auroc = bert_test(model, test_loader)\n",
    "    print(f'| Test AUROC: {test_auroc:.5f}')    "
   ]
  },
  {
   "cell_type": "code",
   "execution_count": 10,
   "metadata": {
    "colab": {
     "base_uri": "https://localhost:8080/"
    },
    "executionInfo": {
     "elapsed": 639257,
     "status": "ok",
     "timestamp": 1604877211151,
     "user": {
      "displayName": "J JS",
      "photoUrl": "",
      "userId": "03523663544813654809"
     },
     "user_tz": 480
    },
    "id": "9SdbpRKO6PiJ",
    "outputId": "28cf3ef4-c75c-49a0-f97d-7053c6a2ddce"
   },
   "outputs": [
    {
     "data": {
      "text/plain": [
       "0.803030303030303"
      ]
     },
     "execution_count": 10,
     "metadata": {
      "tags": []
     },
     "output_type": "execute_result"
    }
   ],
   "source": [
    "test_auroc = bert_test(model, test_loader)\n",
    "test_auroc"
   ]
  }
 ],
 "metadata": {
  "colab": {
   "authorship_tag": "ABX9TyORT/lYgTmRtmbomeVIFIyD",
   "collapsed_sections": [],
   "name": "5.Fine-tuing-BERT.ipynb",
   "provenance": []
  },
  "kernelspec": {
   "display_name": "Python 3",
   "language": "python",
   "name": "python3"
  },
  "language_info": {
   "codemirror_mode": {
    "name": "ipython",
    "version": 3
   },
   "file_extension": ".py",
   "mimetype": "text/x-python",
   "name": "python",
   "nbconvert_exporter": "python",
   "pygments_lexer": "ipython3",
   "version": "3.7.8"
  }
 },
 "nbformat": 4,
 "nbformat_minor": 4
}
