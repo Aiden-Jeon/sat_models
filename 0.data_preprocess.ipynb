{
 "cells": [
  {
   "cell_type": "code",
   "execution_count": 1,
   "metadata": {},
   "outputs": [],
   "source": [
    "import warnings\n",
    "warnings.simplefilter(action='ignore')\n",
    "\n",
    "import pandas as pd"
   ]
  },
  {
   "cell_type": "markdown",
   "metadata": {},
   "source": [
    "## SAT datset"
   ]
  },
  {
   "cell_type": "code",
   "execution_count": 2,
   "metadata": {},
   "outputs": [],
   "source": [
    "sat_data = pd.read_csv(\"data/raw/sat_problems.csv\")"
   ]
  },
  {
   "cell_type": "code",
   "execution_count": 3,
   "metadata": {},
   "outputs": [],
   "source": [
    "sat_train = sat_data[(sat_data[\"year\"] != 2020) & (sat_data[\"test_type\"] != \"짝수형\")]\n",
    "sat_valid = sat_data[(sat_data[\"year\"] != 2020) & (sat_data[\"test_type\"] == \"짝수형\")]\n",
    "sat_test = sat_data[sat_data[\"year\"] == 2020]"
   ]
  },
  {
   "cell_type": "code",
   "execution_count": 4,
   "metadata": {},
   "outputs": [
    {
     "name": "stdout",
     "output_type": "stream",
     "text": [
      "# of train data: 177\n",
      "# of valid data: 66\n",
      "# of test data: 39\n"
     ]
    }
   ],
   "source": [
    "print(\"# of train data:\", sat_train.shape[0])\n",
    "print(\"# of valid data:\", sat_valid.shape[0])\n",
    "print(\"# of test data:\", sat_test.shape[0])"
   ]
  },
  {
   "cell_type": "code",
   "execution_count": 5,
   "metadata": {},
   "outputs": [],
   "source": [
    "def clean_bracket(string):\n",
    "    string = string.replace(\"[\", \"\")\n",
    "    string = string.replace(\"]\", \"\")\n",
    "    return string"
   ]
  },
  {
   "cell_type": "code",
   "execution_count": 6,
   "metadata": {},
   "outputs": [],
   "source": [
    "sat_train[\"context\"] = sat_train[\"context\"].map(clean_bracket)\n",
    "sat_valid[\"context\"] = sat_valid[\"context\"].map(clean_bracket)\n",
    "sat_test[\"context\"] = sat_test[\"context\"].map(clean_bracket)"
   ]
  },
  {
   "cell_type": "code",
   "execution_count": 7,
   "metadata": {},
   "outputs": [],
   "source": [
    "sat_train[\"label\"] = sat_train[\"label\"].map(int)\n",
    "sat_valid[\"label\"] = sat_valid[\"label\"].map(int)\n",
    "sat_test[\"label\"] = sat_test[\"label\"].map(int)"
   ]
  },
  {
   "cell_type": "code",
   "execution_count": 8,
   "metadata": {},
   "outputs": [],
   "source": [
    "sat_train.to_csv(\"data/processed/sat_train.tsv\", sep=\"\\t\", index=False)\n",
    "sat_valid.to_csv(\"data/processed/sat_valid.tsv\", sep=\"\\t\", index=False)\n",
    "sat_test.to_csv(\"data/processed/sat_test.tsv\", sep=\"\\t\", index=False)"
   ]
  },
  {
   "cell_type": "markdown",
   "metadata": {},
   "source": [
    "## CoLA Daaset"
   ]
  },
  {
   "cell_type": "code",
   "execution_count": 9,
   "metadata": {},
   "outputs": [],
   "source": [
    "columns = [\"source\", \"label\", \"original_judgement\", \"context\"]\n",
    "in_domian_train = pd.read_csv(\"data/raw/cola/in_domain_train.tsv\", sep=\"\\t\", header=None, names=columns)\n",
    "in_domian_dev = pd.read_csv(\"data/raw/cola/in_domain_dev.tsv\", sep=\"\\t\", header=None, names=columns)\n",
    "out_of_domian_dev = pd.read_csv(\"data/raw/cola/out_of_domain_dev.tsv\", sep=\"\\t\", header=None, names=columns)"
   ]
  },
  {
   "cell_type": "code",
   "execution_count": 10,
   "metadata": {},
   "outputs": [
    {
     "name": "stdout",
     "output_type": "stream",
     "text": [
      "# of cola train data: 8551\n",
      "# of cola valid data: 527\n",
      "# of cola test data: 516\n"
     ]
    }
   ],
   "source": [
    "print(\"# of cola train data:\", in_domian_train.shape[0])\n",
    "print(\"# of cola valid data:\", in_domian_dev.shape[0])\n",
    "print(\"# of cola test data:\", out_of_domian_dev.shape[0])"
   ]
  },
  {
   "cell_type": "code",
   "execution_count": 11,
   "metadata": {},
   "outputs": [],
   "source": [
    "in_domian_train[[\"context\", \"label\"]].to_csv(\"data/processed/cola_train.tsv\", sep=\"\\t\", index=False)\n",
    "in_domian_dev[[\"context\", \"label\"]].to_csv(\"data/processed/cola_valid.tsv\", sep=\"\\t\", index=False)\n",
    "out_of_domian_dev[[\"context\", \"label\"]].to_csv(\"data/processed/cola_test.tsv\", sep=\"\\t\", index=False)"
   ]
  }
 ],
 "metadata": {
  "kernelspec": {
   "display_name": "ds",
   "language": "python",
   "name": "ds"
  },
  "language_info": {
   "codemirror_mode": {
    "name": "ipython",
    "version": 3
   },
   "file_extension": ".py",
   "mimetype": "text/x-python",
   "name": "python",
   "nbconvert_exporter": "python",
   "pygments_lexer": "ipython3",
   "version": "3.7.8"
  }
 },
 "nbformat": 4,
 "nbformat_minor": 4
}
